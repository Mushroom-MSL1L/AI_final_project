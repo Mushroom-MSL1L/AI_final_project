{
  "cells": [
    {
      "cell_type": "markdown",
      "metadata": {
        "id": "wKeV9jD8ugte"
      },
      "source": [
        "# **Welcome to STEAM (Steam Top Expert Analysis Machine).**\n",
        "\n",
        "## Please follow the instructions to run the system."
      ]
    },
    {
      "cell_type": "markdown",
      "source": [
        "### git clone the project"
      ],
      "metadata": {
        "id": "_61r4JciLNVy"
      }
    },
    {
      "cell_type": "code",
      "execution_count": 1,
      "metadata": {
        "colab": {
          "base_uri": "https://localhost:8080/"
        },
        "id": "nJXD3QFwStNM",
        "outputId": "c20a10c5-dd90-476e-d5f6-35363720124b"
      },
      "outputs": [
        {
          "output_type": "stream",
          "name": "stdout",
          "text": [
            "fatal: destination path 'NYCU-AI-Final-Project-STEAM' already exists and is not an empty directory.\n",
            "/content/NYCU-AI-Final-Project-STEAM\n"
          ]
        }
      ],
      "source": [
        "!git clone https://github.com/Mushroom-MSL1L/NYCU-AI-Final-Project-STEAM.git\n",
        "%cd NYCU-AI-Final-Project-STEAM"
      ]
    },
    {
      "cell_type": "markdown",
      "metadata": {
        "id": "wZFmOTt4ugtg"
      },
      "source": [
        "# install all modules required\n",
        "\n",
        "*   install pytorch as well"
      ]
    },
    {
      "cell_type": "code",
      "execution_count": 2,
      "metadata": {
        "colab": {
          "base_uri": "https://localhost:8080/"
        },
        "id": "2FebGQ-28O4q",
        "outputId": "37a0b1f0-be4d-45b6-c97f-36940d9a3e13"
      },
      "outputs": [
        {
          "output_type": "stream",
          "name": "stdout",
          "text": [
            "Looking in indexes: https://download.pytorch.org/whl/cu121\n",
            "Requirement already satisfied: torch in /usr/local/lib/python3.10/dist-packages (2.3.0+cu121)\n",
            "Requirement already satisfied: torchvision in /usr/local/lib/python3.10/dist-packages (0.18.0+cu121)\n",
            "Requirement already satisfied: torchaudio in /usr/local/lib/python3.10/dist-packages (2.3.0+cu121)\n",
            "Requirement already satisfied: filelock in /usr/local/lib/python3.10/dist-packages (from torch) (3.14.0)\n",
            "Requirement already satisfied: typing-extensions>=4.8.0 in /usr/local/lib/python3.10/dist-packages (from torch) (4.12.1)\n",
            "Requirement already satisfied: sympy in /usr/local/lib/python3.10/dist-packages (from torch) (1.12.1)\n",
            "Requirement already satisfied: networkx in /usr/local/lib/python3.10/dist-packages (from torch) (3.3)\n",
            "Requirement already satisfied: jinja2 in /usr/local/lib/python3.10/dist-packages (from torch) (3.1.4)\n",
            "Requirement already satisfied: fsspec in /usr/local/lib/python3.10/dist-packages (from torch) (2023.6.0)\n",
            "Requirement already satisfied: nvidia-cuda-nvrtc-cu12==12.1.105 in /usr/local/lib/python3.10/dist-packages (from torch) (12.1.105)\n",
            "Requirement already satisfied: nvidia-cuda-runtime-cu12==12.1.105 in /usr/local/lib/python3.10/dist-packages (from torch) (12.1.105)\n",
            "Requirement already satisfied: nvidia-cuda-cupti-cu12==12.1.105 in /usr/local/lib/python3.10/dist-packages (from torch) (12.1.105)\n",
            "Requirement already satisfied: nvidia-cudnn-cu12==8.9.2.26 in /usr/local/lib/python3.10/dist-packages (from torch) (8.9.2.26)\n",
            "Requirement already satisfied: nvidia-cublas-cu12==12.1.3.1 in /usr/local/lib/python3.10/dist-packages (from torch) (12.1.3.1)\n",
            "Requirement already satisfied: nvidia-cufft-cu12==11.0.2.54 in /usr/local/lib/python3.10/dist-packages (from torch) (11.0.2.54)\n",
            "Requirement already satisfied: nvidia-curand-cu12==10.3.2.106 in /usr/local/lib/python3.10/dist-packages (from torch) (10.3.2.106)\n",
            "Requirement already satisfied: nvidia-cusolver-cu12==11.4.5.107 in /usr/local/lib/python3.10/dist-packages (from torch) (11.4.5.107)\n",
            "Requirement already satisfied: nvidia-cusparse-cu12==12.1.0.106 in /usr/local/lib/python3.10/dist-packages (from torch) (12.1.0.106)\n",
            "Requirement already satisfied: nvidia-nccl-cu12==2.20.5 in /usr/local/lib/python3.10/dist-packages (from torch) (2.20.5)\n",
            "Requirement already satisfied: nvidia-nvtx-cu12==12.1.105 in /usr/local/lib/python3.10/dist-packages (from torch) (12.1.105)\n",
            "Requirement already satisfied: triton==2.3.0 in /usr/local/lib/python3.10/dist-packages (from torch) (2.3.0)\n",
            "Requirement already satisfied: nvidia-nvjitlink-cu12 in /usr/local/lib/python3.10/dist-packages (from nvidia-cusolver-cu12==11.4.5.107->torch) (12.1.105)\n",
            "Requirement already satisfied: numpy in /usr/local/lib/python3.10/dist-packages (from torchvision) (1.25.2)\n",
            "Requirement already satisfied: pillow!=8.3.*,>=5.3.0 in /usr/local/lib/python3.10/dist-packages (from torchvision) (9.4.0)\n",
            "Requirement already satisfied: MarkupSafe>=2.0 in /usr/local/lib/python3.10/dist-packages (from jinja2->torch) (2.1.5)\n",
            "Requirement already satisfied: mpmath<1.4.0,>=1.1.0 in /usr/local/lib/python3.10/dist-packages (from sympy->torch) (1.3.0)\n"
          ]
        }
      ],
      "source": [
        "!pip3 install torch torchvision torchaudio --index-url https://download.pytorch.org/whl/cu121"
      ]
    },
    {
      "cell_type": "code",
      "execution_count": 3,
      "metadata": {
        "colab": {
          "base_uri": "https://localhost:8080/"
        },
        "id": "LPx2jvM00Jea",
        "outputId": "ec5477a1-f141-4e26-f4cc-74170be28e2a"
      },
      "outputs": [
        {
          "output_type": "stream",
          "name": "stdout",
          "text": [
            "Requirement already satisfied: langchain==0.1.20 in /usr/local/lib/python3.10/dist-packages (from -r requirements.txt (line 1)) (0.1.20)\n",
            "Requirement already satisfied: langchain-community==0.0.38 in /usr/local/lib/python3.10/dist-packages (from -r requirements.txt (line 2)) (0.0.38)\n",
            "Requirement already satisfied: langchain-core==0.1.52 in /usr/local/lib/python3.10/dist-packages (from -r requirements.txt (line 3)) (0.1.52)\n",
            "Requirement already satisfied: chainlit==1.1.202 in /usr/local/lib/python3.10/dist-packages (from -r requirements.txt (line 4)) (1.1.202)\n",
            "Requirement already satisfied: chromadb==0.5.0 in /usr/local/lib/python3.10/dist-packages (from -r requirements.txt (line 5)) (0.5.0)\n",
            "Requirement already satisfied: llama_cpp_python==0.2.73 in /usr/local/lib/python3.10/dist-packages (from -r requirements.txt (line 6)) (0.2.73)\n",
            "Requirement already satisfied: gguf==0.6.0 in /usr/local/lib/python3.10/dist-packages (from -r requirements.txt (line 7)) (0.6.0)\n",
            "Requirement already satisfied: sentence-transformers==2.7.0 in /usr/local/lib/python3.10/dist-packages (from -r requirements.txt (line 8)) (2.7.0)\n",
            "Requirement already satisfied: langid==1.1.6 in /usr/local/lib/python3.10/dist-packages (from -r requirements.txt (line 9)) (1.1.6)\n",
            "Requirement already satisfied: hf_transfer==0.1.6 in /usr/local/lib/python3.10/dist-packages (from -r requirements.txt (line 11)) (0.1.6)\n",
            "Requirement already satisfied: python-dotenv==1.0.1 in /usr/local/lib/python3.10/dist-packages (from -r requirements.txt (line 12)) (1.0.1)\n",
            "Requirement already satisfied: langchain-fireworks==0.1.3 in /usr/local/lib/python3.10/dist-packages (from -r requirements.txt (line 13)) (0.1.3)\n",
            "Requirement already satisfied: PyYAML>=5.3 in /usr/local/lib/python3.10/dist-packages (from langchain==0.1.20->-r requirements.txt (line 1)) (6.0.1)\n",
            "Requirement already satisfied: SQLAlchemy<3,>=1.4 in /usr/local/lib/python3.10/dist-packages (from langchain==0.1.20->-r requirements.txt (line 1)) (2.0.30)\n",
            "Requirement already satisfied: aiohttp<4.0.0,>=3.8.3 in /usr/local/lib/python3.10/dist-packages (from langchain==0.1.20->-r requirements.txt (line 1)) (3.9.5)\n",
            "Requirement already satisfied: async-timeout<5.0.0,>=4.0.0 in /usr/local/lib/python3.10/dist-packages (from langchain==0.1.20->-r requirements.txt (line 1)) (4.0.3)\n",
            "Requirement already satisfied: dataclasses-json<0.7,>=0.5.7 in /usr/local/lib/python3.10/dist-packages (from langchain==0.1.20->-r requirements.txt (line 1)) (0.5.14)\n",
            "Requirement already satisfied: langchain-text-splitters<0.1,>=0.0.1 in /usr/local/lib/python3.10/dist-packages (from langchain==0.1.20->-r requirements.txt (line 1)) (0.0.2)\n",
            "Requirement already satisfied: langsmith<0.2.0,>=0.1.17 in /usr/local/lib/python3.10/dist-packages (from langchain==0.1.20->-r requirements.txt (line 1)) (0.1.77)\n",
            "Requirement already satisfied: numpy<2,>=1 in /usr/local/lib/python3.10/dist-packages (from langchain==0.1.20->-r requirements.txt (line 1)) (1.25.2)\n",
            "Requirement already satisfied: pydantic<3,>=1 in /usr/local/lib/python3.10/dist-packages (from langchain==0.1.20->-r requirements.txt (line 1)) (2.7.3)\n",
            "Requirement already satisfied: requests<3,>=2 in /usr/local/lib/python3.10/dist-packages (from langchain==0.1.20->-r requirements.txt (line 1)) (2.31.0)\n",
            "Requirement already satisfied: tenacity<9.0.0,>=8.1.0 in /usr/local/lib/python3.10/dist-packages (from langchain==0.1.20->-r requirements.txt (line 1)) (8.3.0)\n",
            "Requirement already satisfied: jsonpatch<2.0,>=1.33 in /usr/local/lib/python3.10/dist-packages (from langchain-core==0.1.52->-r requirements.txt (line 3)) (1.33)\n",
            "Requirement already satisfied: packaging<24.0,>=23.2 in /usr/local/lib/python3.10/dist-packages (from langchain-core==0.1.52->-r requirements.txt (line 3)) (23.2)\n",
            "Requirement already satisfied: aiofiles<24.0.0,>=23.1.0 in /usr/local/lib/python3.10/dist-packages (from chainlit==1.1.202->-r requirements.txt (line 4)) (23.2.1)\n",
            "Requirement already satisfied: asyncer<0.0.3,>=0.0.2 in /usr/local/lib/python3.10/dist-packages (from chainlit==1.1.202->-r requirements.txt (line 4)) (0.0.2)\n",
            "Requirement already satisfied: click<9.0.0,>=8.1.3 in /usr/local/lib/python3.10/dist-packages (from chainlit==1.1.202->-r requirements.txt (line 4)) (8.1.7)\n",
            "Requirement already satisfied: fastapi<0.111.0,>=0.110.1 in /usr/local/lib/python3.10/dist-packages (from chainlit==1.1.202->-r requirements.txt (line 4)) (0.110.3)\n",
            "Requirement already satisfied: fastapi-socketio<0.0.11,>=0.0.10 in /usr/local/lib/python3.10/dist-packages (from chainlit==1.1.202->-r requirements.txt (line 4)) (0.0.10)\n",
            "Requirement already satisfied: filetype<2.0.0,>=1.2.0 in /usr/local/lib/python3.10/dist-packages (from chainlit==1.1.202->-r requirements.txt (line 4)) (1.2.0)\n",
            "Requirement already satisfied: httpx>=0.23.0 in /usr/local/lib/python3.10/dist-packages (from chainlit==1.1.202->-r requirements.txt (line 4)) (0.27.0)\n",
            "Requirement already satisfied: lazify<0.5.0,>=0.4.0 in /usr/local/lib/python3.10/dist-packages (from chainlit==1.1.202->-r requirements.txt (line 4)) (0.4.0)\n",
            "Requirement already satisfied: literalai==0.0.601 in /usr/local/lib/python3.10/dist-packages (from chainlit==1.1.202->-r requirements.txt (line 4)) (0.0.601)\n",
            "Requirement already satisfied: nest-asyncio<2.0.0,>=1.5.6 in /usr/local/lib/python3.10/dist-packages (from chainlit==1.1.202->-r requirements.txt (line 4)) (1.6.0)\n",
            "Requirement already satisfied: pyjwt<3.0.0,>=2.8.0 in /usr/local/lib/python3.10/dist-packages (from chainlit==1.1.202->-r requirements.txt (line 4)) (2.8.0)\n",
            "Requirement already satisfied: python-multipart<0.0.10,>=0.0.9 in /usr/local/lib/python3.10/dist-packages (from chainlit==1.1.202->-r requirements.txt (line 4)) (0.0.9)\n",
            "Requirement already satisfied: starlette<0.38.0,>=0.37.2 in /usr/local/lib/python3.10/dist-packages (from chainlit==1.1.202->-r requirements.txt (line 4)) (0.37.2)\n",
            "Requirement already satisfied: syncer<3.0.0,>=2.0.3 in /usr/local/lib/python3.10/dist-packages (from chainlit==1.1.202->-r requirements.txt (line 4)) (2.0.3)\n",
            "Requirement already satisfied: tomli<3.0.0,>=2.0.1 in /usr/local/lib/python3.10/dist-packages (from chainlit==1.1.202->-r requirements.txt (line 4)) (2.0.1)\n",
            "Requirement already satisfied: uptrace<2.0.0,>=1.22.0 in /usr/local/lib/python3.10/dist-packages (from chainlit==1.1.202->-r requirements.txt (line 4)) (1.24.0)\n",
            "Requirement already satisfied: uvicorn<0.26.0,>=0.25.0 in /usr/local/lib/python3.10/dist-packages (from chainlit==1.1.202->-r requirements.txt (line 4)) (0.25.0)\n",
            "Requirement already satisfied: watchfiles<0.21.0,>=0.20.0 in /usr/local/lib/python3.10/dist-packages (from chainlit==1.1.202->-r requirements.txt (line 4)) (0.20.0)\n",
            "Requirement already satisfied: build>=1.0.3 in /usr/local/lib/python3.10/dist-packages (from chromadb==0.5.0->-r requirements.txt (line 5)) (1.2.1)\n",
            "Requirement already satisfied: chroma-hnswlib==0.7.3 in /usr/local/lib/python3.10/dist-packages (from chromadb==0.5.0->-r requirements.txt (line 5)) (0.7.3)\n",
            "Requirement already satisfied: posthog>=2.4.0 in /usr/local/lib/python3.10/dist-packages (from chromadb==0.5.0->-r requirements.txt (line 5)) (3.5.0)\n",
            "Requirement already satisfied: typing-extensions>=4.5.0 in /usr/local/lib/python3.10/dist-packages (from chromadb==0.5.0->-r requirements.txt (line 5)) (4.12.1)\n",
            "Requirement already satisfied: onnxruntime>=1.14.1 in /usr/local/lib/python3.10/dist-packages (from chromadb==0.5.0->-r requirements.txt (line 5)) (1.18.0)\n",
            "Requirement already satisfied: opentelemetry-api>=1.2.0 in /usr/local/lib/python3.10/dist-packages (from chromadb==0.5.0->-r requirements.txt (line 5)) (1.25.0)\n",
            "Requirement already satisfied: opentelemetry-exporter-otlp-proto-grpc>=1.2.0 in /usr/local/lib/python3.10/dist-packages (from chromadb==0.5.0->-r requirements.txt (line 5)) (1.25.0)\n",
            "Requirement already satisfied: opentelemetry-instrumentation-fastapi>=0.41b0 in /usr/local/lib/python3.10/dist-packages (from chromadb==0.5.0->-r requirements.txt (line 5)) (0.46b0)\n",
            "Requirement already satisfied: opentelemetry-sdk>=1.2.0 in /usr/local/lib/python3.10/dist-packages (from chromadb==0.5.0->-r requirements.txt (line 5)) (1.25.0)\n",
            "Requirement already satisfied: tokenizers>=0.13.2 in /usr/local/lib/python3.10/dist-packages (from chromadb==0.5.0->-r requirements.txt (line 5)) (0.19.1)\n",
            "Requirement already satisfied: pypika>=0.48.9 in /usr/local/lib/python3.10/dist-packages (from chromadb==0.5.0->-r requirements.txt (line 5)) (0.48.9)\n",
            "Requirement already satisfied: tqdm>=4.65.0 in /usr/local/lib/python3.10/dist-packages (from chromadb==0.5.0->-r requirements.txt (line 5)) (4.66.4)\n",
            "Requirement already satisfied: overrides>=7.3.1 in /usr/local/lib/python3.10/dist-packages (from chromadb==0.5.0->-r requirements.txt (line 5)) (7.7.0)\n",
            "Requirement already satisfied: importlib-resources in /usr/local/lib/python3.10/dist-packages (from chromadb==0.5.0->-r requirements.txt (line 5)) (6.4.0)\n",
            "Requirement already satisfied: grpcio>=1.58.0 in /usr/local/lib/python3.10/dist-packages (from chromadb==0.5.0->-r requirements.txt (line 5)) (1.64.1)\n",
            "Requirement already satisfied: bcrypt>=4.0.1 in /usr/local/lib/python3.10/dist-packages (from chromadb==0.5.0->-r requirements.txt (line 5)) (4.1.3)\n",
            "Requirement already satisfied: typer>=0.9.0 in /usr/local/lib/python3.10/dist-packages (from chromadb==0.5.0->-r requirements.txt (line 5)) (0.9.4)\n",
            "Requirement already satisfied: kubernetes>=28.1.0 in /usr/local/lib/python3.10/dist-packages (from chromadb==0.5.0->-r requirements.txt (line 5)) (30.1.0)\n",
            "Requirement already satisfied: mmh3>=4.0.1 in /usr/local/lib/python3.10/dist-packages (from chromadb==0.5.0->-r requirements.txt (line 5)) (4.1.0)\n",
            "Requirement already satisfied: orjson>=3.9.12 in /usr/local/lib/python3.10/dist-packages (from chromadb==0.5.0->-r requirements.txt (line 5)) (3.10.4)\n",
            "Requirement already satisfied: diskcache>=5.6.1 in /usr/local/lib/python3.10/dist-packages (from llama_cpp_python==0.2.73->-r requirements.txt (line 6)) (5.6.3)\n",
            "Requirement already satisfied: jinja2>=2.11.3 in /usr/local/lib/python3.10/dist-packages (from llama_cpp_python==0.2.73->-r requirements.txt (line 6)) (3.1.4)\n",
            "Requirement already satisfied: transformers<5.0.0,>=4.34.0 in /usr/local/lib/python3.10/dist-packages (from sentence-transformers==2.7.0->-r requirements.txt (line 8)) (4.41.2)\n",
            "Requirement already satisfied: torch>=1.11.0 in /usr/local/lib/python3.10/dist-packages (from sentence-transformers==2.7.0->-r requirements.txt (line 8)) (2.3.0+cu121)\n",
            "Requirement already satisfied: scikit-learn in /usr/local/lib/python3.10/dist-packages (from sentence-transformers==2.7.0->-r requirements.txt (line 8)) (1.2.2)\n",
            "Requirement already satisfied: scipy in /usr/local/lib/python3.10/dist-packages (from sentence-transformers==2.7.0->-r requirements.txt (line 8)) (1.11.4)\n",
            "Requirement already satisfied: huggingface-hub>=0.15.1 in /usr/local/lib/python3.10/dist-packages (from sentence-transformers==2.7.0->-r requirements.txt (line 8)) (0.23.2)\n",
            "Requirement already satisfied: Pillow in /usr/local/lib/python3.10/dist-packages (from sentence-transformers==2.7.0->-r requirements.txt (line 8)) (9.4.0)\n",
            "Requirement already satisfied: fireworks-ai>=0.13.0 in /usr/local/lib/python3.10/dist-packages (from langchain-fireworks==0.1.3->-r requirements.txt (line 13)) (0.14.0)\n",
            "Requirement already satisfied: openai<2.0.0,>=1.10.0 in /usr/local/lib/python3.10/dist-packages (from langchain-fireworks==0.1.3->-r requirements.txt (line 13)) (1.33.0)\n",
            "Requirement already satisfied: chevron>=0.14.0 in /usr/local/lib/python3.10/dist-packages (from literalai==0.0.601->chainlit==1.1.202->-r requirements.txt (line 4)) (0.14.0)\n",
            "Requirement already satisfied: aiosignal>=1.1.2 in /usr/local/lib/python3.10/dist-packages (from aiohttp<4.0.0,>=3.8.3->langchain==0.1.20->-r requirements.txt (line 1)) (1.3.1)\n",
            "Requirement already satisfied: attrs>=17.3.0 in /usr/local/lib/python3.10/dist-packages (from aiohttp<4.0.0,>=3.8.3->langchain==0.1.20->-r requirements.txt (line 1)) (23.2.0)\n",
            "Requirement already satisfied: frozenlist>=1.1.1 in /usr/local/lib/python3.10/dist-packages (from aiohttp<4.0.0,>=3.8.3->langchain==0.1.20->-r requirements.txt (line 1)) (1.4.1)\n",
            "Requirement already satisfied: multidict<7.0,>=4.5 in /usr/local/lib/python3.10/dist-packages (from aiohttp<4.0.0,>=3.8.3->langchain==0.1.20->-r requirements.txt (line 1)) (6.0.5)\n",
            "Requirement already satisfied: yarl<2.0,>=1.0 in /usr/local/lib/python3.10/dist-packages (from aiohttp<4.0.0,>=3.8.3->langchain==0.1.20->-r requirements.txt (line 1)) (1.9.4)\n",
            "Requirement already satisfied: anyio<4.0.0,>=3.4.0 in /usr/local/lib/python3.10/dist-packages (from asyncer<0.0.3,>=0.0.2->chainlit==1.1.202->-r requirements.txt (line 4)) (3.7.1)\n",
            "Requirement already satisfied: pyproject_hooks in /usr/local/lib/python3.10/dist-packages (from build>=1.0.3->chromadb==0.5.0->-r requirements.txt (line 5)) (1.1.0)\n",
            "Requirement already satisfied: marshmallow<4.0.0,>=3.18.0 in /usr/local/lib/python3.10/dist-packages (from dataclasses-json<0.7,>=0.5.7->langchain==0.1.20->-r requirements.txt (line 1)) (3.21.3)\n",
            "Requirement already satisfied: typing-inspect<1,>=0.4.0 in /usr/local/lib/python3.10/dist-packages (from dataclasses-json<0.7,>=0.5.7->langchain==0.1.20->-r requirements.txt (line 1)) (0.9.0)\n",
            "Requirement already satisfied: python-socketio>=4.6.0 in /usr/local/lib/python3.10/dist-packages (from fastapi-socketio<0.0.11,>=0.0.10->chainlit==1.1.202->-r requirements.txt (line 4)) (5.11.2)\n",
            "Requirement already satisfied: httpx-sse in /usr/local/lib/python3.10/dist-packages (from fireworks-ai>=0.13.0->langchain-fireworks==0.1.3->-r requirements.txt (line 13)) (0.4.0)\n",
            "Requirement already satisfied: certifi in /usr/local/lib/python3.10/dist-packages (from httpx>=0.23.0->chainlit==1.1.202->-r requirements.txt (line 4)) (2024.6.2)\n",
            "Requirement already satisfied: httpcore==1.* in /usr/local/lib/python3.10/dist-packages (from httpx>=0.23.0->chainlit==1.1.202->-r requirements.txt (line 4)) (1.0.5)\n",
            "Requirement already satisfied: idna in /usr/local/lib/python3.10/dist-packages (from httpx>=0.23.0->chainlit==1.1.202->-r requirements.txt (line 4)) (3.7)\n",
            "Requirement already satisfied: sniffio in /usr/local/lib/python3.10/dist-packages (from httpx>=0.23.0->chainlit==1.1.202->-r requirements.txt (line 4)) (1.3.1)\n",
            "Requirement already satisfied: h11<0.15,>=0.13 in /usr/local/lib/python3.10/dist-packages (from httpcore==1.*->httpx>=0.23.0->chainlit==1.1.202->-r requirements.txt (line 4)) (0.14.0)\n",
            "Requirement already satisfied: filelock in /usr/local/lib/python3.10/dist-packages (from huggingface-hub>=0.15.1->sentence-transformers==2.7.0->-r requirements.txt (line 8)) (3.14.0)\n",
            "Requirement already satisfied: fsspec>=2023.5.0 in /usr/local/lib/python3.10/dist-packages (from huggingface-hub>=0.15.1->sentence-transformers==2.7.0->-r requirements.txt (line 8)) (2023.6.0)\n",
            "Requirement already satisfied: MarkupSafe>=2.0 in /usr/local/lib/python3.10/dist-packages (from jinja2>=2.11.3->llama_cpp_python==0.2.73->-r requirements.txt (line 6)) (2.1.5)\n",
            "Requirement already satisfied: jsonpointer>=1.9 in /usr/local/lib/python3.10/dist-packages (from jsonpatch<2.0,>=1.33->langchain-core==0.1.52->-r requirements.txt (line 3)) (3.0.0)\n",
            "Requirement already satisfied: six>=1.9.0 in /usr/local/lib/python3.10/dist-packages (from kubernetes>=28.1.0->chromadb==0.5.0->-r requirements.txt (line 5)) (1.16.0)\n",
            "Requirement already satisfied: python-dateutil>=2.5.3 in /usr/local/lib/python3.10/dist-packages (from kubernetes>=28.1.0->chromadb==0.5.0->-r requirements.txt (line 5)) (2.8.2)\n",
            "Requirement already satisfied: google-auth>=1.0.1 in /usr/local/lib/python3.10/dist-packages (from kubernetes>=28.1.0->chromadb==0.5.0->-r requirements.txt (line 5)) (2.27.0)\n",
            "Requirement already satisfied: websocket-client!=0.40.0,!=0.41.*,!=0.42.*,>=0.32.0 in /usr/local/lib/python3.10/dist-packages (from kubernetes>=28.1.0->chromadb==0.5.0->-r requirements.txt (line 5)) (1.8.0)\n",
            "Requirement already satisfied: requests-oauthlib in /usr/local/lib/python3.10/dist-packages (from kubernetes>=28.1.0->chromadb==0.5.0->-r requirements.txt (line 5)) (1.3.1)\n",
            "Requirement already satisfied: oauthlib>=3.2.2 in /usr/local/lib/python3.10/dist-packages (from kubernetes>=28.1.0->chromadb==0.5.0->-r requirements.txt (line 5)) (3.2.2)\n",
            "Requirement already satisfied: urllib3>=1.24.2 in /usr/local/lib/python3.10/dist-packages (from kubernetes>=28.1.0->chromadb==0.5.0->-r requirements.txt (line 5)) (2.0.7)\n",
            "Requirement already satisfied: coloredlogs in /usr/local/lib/python3.10/dist-packages (from onnxruntime>=1.14.1->chromadb==0.5.0->-r requirements.txt (line 5)) (15.0.1)\n",
            "Requirement already satisfied: flatbuffers in /usr/local/lib/python3.10/dist-packages (from onnxruntime>=1.14.1->chromadb==0.5.0->-r requirements.txt (line 5)) (24.3.25)\n",
            "Requirement already satisfied: protobuf in /usr/local/lib/python3.10/dist-packages (from onnxruntime>=1.14.1->chromadb==0.5.0->-r requirements.txt (line 5)) (3.20.3)\n",
            "Requirement already satisfied: sympy in /usr/local/lib/python3.10/dist-packages (from onnxruntime>=1.14.1->chromadb==0.5.0->-r requirements.txt (line 5)) (1.12.1)\n",
            "Requirement already satisfied: distro<2,>=1.7.0 in /usr/lib/python3/dist-packages (from openai<2.0.0,>=1.10.0->langchain-fireworks==0.1.3->-r requirements.txt (line 13)) (1.7.0)\n",
            "Requirement already satisfied: deprecated>=1.2.6 in /usr/local/lib/python3.10/dist-packages (from opentelemetry-api>=1.2.0->chromadb==0.5.0->-r requirements.txt (line 5)) (1.2.14)\n",
            "Requirement already satisfied: importlib-metadata<=7.1,>=6.0 in /usr/local/lib/python3.10/dist-packages (from opentelemetry-api>=1.2.0->chromadb==0.5.0->-r requirements.txt (line 5)) (7.1.0)\n",
            "Requirement already satisfied: googleapis-common-protos~=1.52 in /usr/local/lib/python3.10/dist-packages (from opentelemetry-exporter-otlp-proto-grpc>=1.2.0->chromadb==0.5.0->-r requirements.txt (line 5)) (1.63.1)\n",
            "Requirement already satisfied: opentelemetry-exporter-otlp-proto-common==1.25.0 in /usr/local/lib/python3.10/dist-packages (from opentelemetry-exporter-otlp-proto-grpc>=1.2.0->chromadb==0.5.0->-r requirements.txt (line 5)) (1.25.0)\n",
            "Requirement already satisfied: opentelemetry-proto==1.25.0 in /usr/local/lib/python3.10/dist-packages (from opentelemetry-exporter-otlp-proto-grpc>=1.2.0->chromadb==0.5.0->-r requirements.txt (line 5)) (1.25.0)\n",
            "Requirement already satisfied: opentelemetry-instrumentation-asgi==0.46b0 in /usr/local/lib/python3.10/dist-packages (from opentelemetry-instrumentation-fastapi>=0.41b0->chromadb==0.5.0->-r requirements.txt (line 5)) (0.46b0)\n",
            "Requirement already satisfied: opentelemetry-instrumentation==0.46b0 in /usr/local/lib/python3.10/dist-packages (from opentelemetry-instrumentation-fastapi>=0.41b0->chromadb==0.5.0->-r requirements.txt (line 5)) (0.46b0)\n",
            "Requirement already satisfied: opentelemetry-semantic-conventions==0.46b0 in /usr/local/lib/python3.10/dist-packages (from opentelemetry-instrumentation-fastapi>=0.41b0->chromadb==0.5.0->-r requirements.txt (line 5)) (0.46b0)\n",
            "Requirement already satisfied: opentelemetry-util-http==0.46b0 in /usr/local/lib/python3.10/dist-packages (from opentelemetry-instrumentation-fastapi>=0.41b0->chromadb==0.5.0->-r requirements.txt (line 5)) (0.46b0)\n",
            "Requirement already satisfied: setuptools>=16.0 in /usr/local/lib/python3.10/dist-packages (from opentelemetry-instrumentation==0.46b0->opentelemetry-instrumentation-fastapi>=0.41b0->chromadb==0.5.0->-r requirements.txt (line 5)) (67.7.2)\n",
            "Requirement already satisfied: wrapt<2.0.0,>=1.0.0 in /usr/local/lib/python3.10/dist-packages (from opentelemetry-instrumentation==0.46b0->opentelemetry-instrumentation-fastapi>=0.41b0->chromadb==0.5.0->-r requirements.txt (line 5)) (1.14.1)\n",
            "Requirement already satisfied: asgiref~=3.0 in /usr/local/lib/python3.10/dist-packages (from opentelemetry-instrumentation-asgi==0.46b0->opentelemetry-instrumentation-fastapi>=0.41b0->chromadb==0.5.0->-r requirements.txt (line 5)) (3.8.1)\n",
            "Requirement already satisfied: monotonic>=1.5 in /usr/local/lib/python3.10/dist-packages (from posthog>=2.4.0->chromadb==0.5.0->-r requirements.txt (line 5)) (1.6)\n",
            "Requirement already satisfied: backoff>=1.10.0 in /usr/local/lib/python3.10/dist-packages (from posthog>=2.4.0->chromadb==0.5.0->-r requirements.txt (line 5)) (2.2.1)\n",
            "Requirement already satisfied: annotated-types>=0.4.0 in /usr/local/lib/python3.10/dist-packages (from pydantic<3,>=1->langchain==0.1.20->-r requirements.txt (line 1)) (0.7.0)\n",
            "Requirement already satisfied: pydantic-core==2.18.4 in /usr/local/lib/python3.10/dist-packages (from pydantic<3,>=1->langchain==0.1.20->-r requirements.txt (line 1)) (2.18.4)\n",
            "Requirement already satisfied: charset-normalizer<4,>=2 in /usr/local/lib/python3.10/dist-packages (from requests<3,>=2->langchain==0.1.20->-r requirements.txt (line 1)) (3.3.2)\n",
            "Requirement already satisfied: greenlet!=0.4.17 in /usr/local/lib/python3.10/dist-packages (from SQLAlchemy<3,>=1.4->langchain==0.1.20->-r requirements.txt (line 1)) (3.0.3)\n",
            "Requirement already satisfied: networkx in /usr/local/lib/python3.10/dist-packages (from torch>=1.11.0->sentence-transformers==2.7.0->-r requirements.txt (line 8)) (3.3)\n",
            "Requirement already satisfied: nvidia-cuda-nvrtc-cu12==12.1.105 in /usr/local/lib/python3.10/dist-packages (from torch>=1.11.0->sentence-transformers==2.7.0->-r requirements.txt (line 8)) (12.1.105)\n",
            "Requirement already satisfied: nvidia-cuda-runtime-cu12==12.1.105 in /usr/local/lib/python3.10/dist-packages (from torch>=1.11.0->sentence-transformers==2.7.0->-r requirements.txt (line 8)) (12.1.105)\n",
            "Requirement already satisfied: nvidia-cuda-cupti-cu12==12.1.105 in /usr/local/lib/python3.10/dist-packages (from torch>=1.11.0->sentence-transformers==2.7.0->-r requirements.txt (line 8)) (12.1.105)\n",
            "Requirement already satisfied: nvidia-cudnn-cu12==8.9.2.26 in /usr/local/lib/python3.10/dist-packages (from torch>=1.11.0->sentence-transformers==2.7.0->-r requirements.txt (line 8)) (8.9.2.26)\n",
            "Requirement already satisfied: nvidia-cublas-cu12==12.1.3.1 in /usr/local/lib/python3.10/dist-packages (from torch>=1.11.0->sentence-transformers==2.7.0->-r requirements.txt (line 8)) (12.1.3.1)\n",
            "Requirement already satisfied: nvidia-cufft-cu12==11.0.2.54 in /usr/local/lib/python3.10/dist-packages (from torch>=1.11.0->sentence-transformers==2.7.0->-r requirements.txt (line 8)) (11.0.2.54)\n",
            "Requirement already satisfied: nvidia-curand-cu12==10.3.2.106 in /usr/local/lib/python3.10/dist-packages (from torch>=1.11.0->sentence-transformers==2.7.0->-r requirements.txt (line 8)) (10.3.2.106)\n",
            "Requirement already satisfied: nvidia-cusolver-cu12==11.4.5.107 in /usr/local/lib/python3.10/dist-packages (from torch>=1.11.0->sentence-transformers==2.7.0->-r requirements.txt (line 8)) (11.4.5.107)\n",
            "Requirement already satisfied: nvidia-cusparse-cu12==12.1.0.106 in /usr/local/lib/python3.10/dist-packages (from torch>=1.11.0->sentence-transformers==2.7.0->-r requirements.txt (line 8)) (12.1.0.106)\n",
            "Requirement already satisfied: nvidia-nccl-cu12==2.20.5 in /usr/local/lib/python3.10/dist-packages (from torch>=1.11.0->sentence-transformers==2.7.0->-r requirements.txt (line 8)) (2.20.5)\n",
            "Requirement already satisfied: nvidia-nvtx-cu12==12.1.105 in /usr/local/lib/python3.10/dist-packages (from torch>=1.11.0->sentence-transformers==2.7.0->-r requirements.txt (line 8)) (12.1.105)\n",
            "Requirement already satisfied: triton==2.3.0 in /usr/local/lib/python3.10/dist-packages (from torch>=1.11.0->sentence-transformers==2.7.0->-r requirements.txt (line 8)) (2.3.0)\n",
            "Requirement already satisfied: nvidia-nvjitlink-cu12 in /usr/local/lib/python3.10/dist-packages (from nvidia-cusolver-cu12==11.4.5.107->torch>=1.11.0->sentence-transformers==2.7.0->-r requirements.txt (line 8)) (12.1.105)\n",
            "Requirement already satisfied: regex!=2019.12.17 in /usr/local/lib/python3.10/dist-packages (from transformers<5.0.0,>=4.34.0->sentence-transformers==2.7.0->-r requirements.txt (line 8)) (2024.5.15)\n",
            "Requirement already satisfied: safetensors>=0.4.1 in /usr/local/lib/python3.10/dist-packages (from transformers<5.0.0,>=4.34.0->sentence-transformers==2.7.0->-r requirements.txt (line 8)) (0.4.3)\n",
            "Requirement already satisfied: opentelemetry-exporter-otlp~=1.24 in /usr/local/lib/python3.10/dist-packages (from uptrace<2.0.0,>=1.22.0->chainlit==1.1.202->-r requirements.txt (line 4)) (1.25.0)\n",
            "Requirement already satisfied: httptools>=0.5.0 in /usr/local/lib/python3.10/dist-packages (from uvicorn<0.26.0,>=0.25.0->chainlit==1.1.202->-r requirements.txt (line 4)) (0.6.1)\n",
            "Requirement already satisfied: uvloop!=0.15.0,!=0.15.1,>=0.14.0 in /usr/local/lib/python3.10/dist-packages (from uvicorn<0.26.0,>=0.25.0->chainlit==1.1.202->-r requirements.txt (line 4)) (0.19.0)\n",
            "Requirement already satisfied: websockets>=10.4 in /usr/local/lib/python3.10/dist-packages (from uvicorn<0.26.0,>=0.25.0->chainlit==1.1.202->-r requirements.txt (line 4)) (12.0)\n",
            "Requirement already satisfied: joblib>=1.1.1 in /usr/local/lib/python3.10/dist-packages (from scikit-learn->sentence-transformers==2.7.0->-r requirements.txt (line 8)) (1.4.2)\n",
            "Requirement already satisfied: threadpoolctl>=2.0.0 in /usr/local/lib/python3.10/dist-packages (from scikit-learn->sentence-transformers==2.7.0->-r requirements.txt (line 8)) (3.5.0)\n",
            "Requirement already satisfied: exceptiongroup in /usr/local/lib/python3.10/dist-packages (from anyio<4.0.0,>=3.4.0->asyncer<0.0.3,>=0.0.2->chainlit==1.1.202->-r requirements.txt (line 4)) (1.2.1)\n",
            "Requirement already satisfied: cachetools<6.0,>=2.0.0 in /usr/local/lib/python3.10/dist-packages (from google-auth>=1.0.1->kubernetes>=28.1.0->chromadb==0.5.0->-r requirements.txt (line 5)) (5.3.3)\n",
            "Requirement already satisfied: pyasn1-modules>=0.2.1 in /usr/local/lib/python3.10/dist-packages (from google-auth>=1.0.1->kubernetes>=28.1.0->chromadb==0.5.0->-r requirements.txt (line 5)) (0.4.0)\n",
            "Requirement already satisfied: rsa<5,>=3.1.4 in /usr/local/lib/python3.10/dist-packages (from google-auth>=1.0.1->kubernetes>=28.1.0->chromadb==0.5.0->-r requirements.txt (line 5)) (4.9)\n",
            "Requirement already satisfied: zipp>=0.5 in /usr/local/lib/python3.10/dist-packages (from importlib-metadata<=7.1,>=6.0->opentelemetry-api>=1.2.0->chromadb==0.5.0->-r requirements.txt (line 5)) (3.19.1)\n",
            "Requirement already satisfied: opentelemetry-exporter-otlp-proto-http==1.25.0 in /usr/local/lib/python3.10/dist-packages (from opentelemetry-exporter-otlp~=1.24->uptrace<2.0.0,>=1.22.0->chainlit==1.1.202->-r requirements.txt (line 4)) (1.25.0)\n",
            "Requirement already satisfied: bidict>=0.21.0 in /usr/local/lib/python3.10/dist-packages (from python-socketio>=4.6.0->fastapi-socketio<0.0.11,>=0.0.10->chainlit==1.1.202->-r requirements.txt (line 4)) (0.23.1)\n",
            "Requirement already satisfied: python-engineio>=4.8.0 in /usr/local/lib/python3.10/dist-packages (from python-socketio>=4.6.0->fastapi-socketio<0.0.11,>=0.0.10->chainlit==1.1.202->-r requirements.txt (line 4)) (4.9.1)\n",
            "Requirement already satisfied: mypy-extensions>=0.3.0 in /usr/local/lib/python3.10/dist-packages (from typing-inspect<1,>=0.4.0->dataclasses-json<0.7,>=0.5.7->langchain==0.1.20->-r requirements.txt (line 1)) (1.0.0)\n",
            "Requirement already satisfied: humanfriendly>=9.1 in /usr/local/lib/python3.10/dist-packages (from coloredlogs->onnxruntime>=1.14.1->chromadb==0.5.0->-r requirements.txt (line 5)) (10.0)\n",
            "Requirement already satisfied: mpmath<1.4.0,>=1.1.0 in /usr/local/lib/python3.10/dist-packages (from sympy->onnxruntime>=1.14.1->chromadb==0.5.0->-r requirements.txt (line 5)) (1.3.0)\n",
            "Requirement already satisfied: pyasn1<0.7.0,>=0.4.6 in /usr/local/lib/python3.10/dist-packages (from pyasn1-modules>=0.2.1->google-auth>=1.0.1->kubernetes>=28.1.0->chromadb==0.5.0->-r requirements.txt (line 5)) (0.6.0)\n",
            "Requirement already satisfied: simple-websocket>=0.10.0 in /usr/local/lib/python3.10/dist-packages (from python-engineio>=4.8.0->python-socketio>=4.6.0->fastapi-socketio<0.0.11,>=0.0.10->chainlit==1.1.202->-r requirements.txt (line 4)) (1.0.0)\n",
            "Requirement already satisfied: wsproto in /usr/local/lib/python3.10/dist-packages (from simple-websocket>=0.10.0->python-engineio>=4.8.0->python-socketio>=4.6.0->fastapi-socketio<0.0.11,>=0.0.10->chainlit==1.1.202->-r requirements.txt (line 4)) (1.2.0)\n"
          ]
        }
      ],
      "source": [
        "!pip install -r requirements.txt"
      ]
    },
    {
      "cell_type": "markdown",
      "metadata": {
        "id": "bPV50tQZugtg"
      },
      "source": [
        "# Download llm model"
      ]
    },
    {
      "cell_type": "code",
      "execution_count": 4,
      "metadata": {
        "colab": {
          "base_uri": "https://localhost:8080/"
        },
        "id": "eJveBw6PO6FE",
        "outputId": "21e432a1-370a-48d2-c468-b95f9345235a"
      },
      "outputs": [
        {
          "output_type": "stream",
          "name": "stdout",
          "text": [
            "/content/NYCU-AI-Final-Project-STEAM/Model\n",
            "/content/NYCU-AI-Final-Project-STEAM/Model/llama.cpp\n",
            "/usr/local/lib/python3.10/dist-packages/huggingface_hub/commands/download.py:132: FutureWarning: Ignoring --local-dir-use-symlinks. Downloading to a local directory does not use symlinks anymore.\n",
            "  warnings.warn(\n",
            "Downloading 'llama-2-7b-chat.Q4_K_M.gguf' to '.huggingface/download/llama-2-7b-chat.Q4_K_M.gguf.08a5566d61d7cb6b420c3e4387a39e0078e1f2fe5f055f3a03887385304d4bfa.incomplete'\n",
            "llama-2-7b-chat.Q4_K_M.gguf: 100% 4.08G/4.08G [00:24<00:00, 166MB/s]\n",
            "Download complete. Moving file to llama-2-7b-chat.Q4_K_M.gguf\n",
            "llama-2-7b-chat.Q4_K_M.gguf\n",
            "/content/NYCU-AI-Final-Project-STEAM\n"
          ]
        }
      ],
      "source": [
        "%cd Model\n",
        "!mkdir llama.cpp\n",
        "%cd llama.cpp\n",
        "!HUGGINGFACE_HUB_ENABLE_HF_TRANSFER=1 huggingface-cli download TheBloke/Llama-2-7B-chat-GGUF llama-2-7b-chat.Q4_K_M.gguf --local-dir . --local-dir-use-symlinks False\n",
        "%cd ../../"
      ]
    },
    {
      "cell_type": "markdown",
      "metadata": {
        "id": "c51xuLXIugtg"
      },
      "source": [
        "#  llama-cpp-python GPU ver. install\n",
        "take almost 20 minitues."
      ]
    },
    {
      "cell_type": "code",
      "execution_count": 5,
      "metadata": {
        "colab": {
          "base_uri": "https://localhost:8080/"
        },
        "id": "6wI-hWuc5hkX",
        "outputId": "a6b87b94-9de2-4bb9-9189-cc2303ae6d50"
      },
      "outputs": [
        {
          "output_type": "stream",
          "name": "stdout",
          "text": [
            "Collecting llama-cpp-python\n",
            "  Downloading llama_cpp_python-0.2.78.tar.gz (50.2 MB)\n",
            "\u001b[2K     \u001b[90m━━━━━━━━━━━━━━━━━━━━━━━━━━━━━━━━━━━━━━━━\u001b[0m \u001b[32m50.2/50.2 MB\u001b[0m \u001b[31m262.7 MB/s\u001b[0m eta \u001b[36m0:00:00\u001b[0m\n",
            "\u001b[?25h  Installing build dependencies ... \u001b[?25l\u001b[?25hdone\n",
            "  Getting requirements to build wheel ... \u001b[?25l\u001b[?25hdone\n",
            "  Installing backend dependencies ... \u001b[?25l\u001b[?25hdone\n",
            "  Preparing metadata (pyproject.toml) ... \u001b[?25l\u001b[?25hdone\n",
            "Collecting typing-extensions>=4.5.0 (from llama-cpp-python)\n",
            "  Downloading typing_extensions-4.12.2-py3-none-any.whl (37 kB)\n",
            "Collecting numpy>=1.20.0 (from llama-cpp-python)\n",
            "  Downloading numpy-1.26.4-cp310-cp310-manylinux_2_17_x86_64.manylinux2014_x86_64.whl (18.2 MB)\n",
            "\u001b[2K     \u001b[90m━━━━━━━━━━━━━━━━━━━━━━━━━━━━━━━━━━━━━━━━\u001b[0m \u001b[32m18.2/18.2 MB\u001b[0m \u001b[31m190.7 MB/s\u001b[0m eta \u001b[36m0:00:00\u001b[0m\n",
            "\u001b[?25hCollecting diskcache>=5.6.1 (from llama-cpp-python)\n",
            "  Downloading diskcache-5.6.3-py3-none-any.whl (45 kB)\n",
            "\u001b[2K     \u001b[90m━━━━━━━━━━━━━━━━━━━━━━━━━━━━━━━━━━━━━━━━\u001b[0m \u001b[32m45.5/45.5 kB\u001b[0m \u001b[31m153.3 MB/s\u001b[0m eta \u001b[36m0:00:00\u001b[0m\n",
            "\u001b[?25hCollecting jinja2>=2.11.3 (from llama-cpp-python)\n",
            "  Downloading jinja2-3.1.4-py3-none-any.whl (133 kB)\n",
            "\u001b[2K     \u001b[90m━━━━━━━━━━━━━━━━━━━━━━━━━━━━━━━━━━━━━━━━\u001b[0m \u001b[32m133.3/133.3 kB\u001b[0m \u001b[31m214.0 MB/s\u001b[0m eta \u001b[36m0:00:00\u001b[0m\n",
            "\u001b[?25hCollecting MarkupSafe>=2.0 (from jinja2>=2.11.3->llama-cpp-python)\n",
            "  Downloading MarkupSafe-2.1.5-cp310-cp310-manylinux_2_17_x86_64.manylinux2014_x86_64.whl (25 kB)\n",
            "Building wheels for collected packages: llama-cpp-python\n",
            "  Building wheel for llama-cpp-python (pyproject.toml) ... \u001b[?25l\u001b[?25hdone\n",
            "  Created wheel for llama-cpp-python: filename=llama_cpp_python-0.2.78-cp310-cp310-linux_x86_64.whl size=169132290 sha256=1510d68dcf19f8e37b71f2ddee5135ca6ddc67c80715b4aaadbadc14dc388366\n",
            "  Stored in directory: /tmp/pip-ephem-wheel-cache-if_r1gvg/wheels/fd/c5/bd/3b1c20081bd71ce9d28b562573c97915c790bf1ef231879a61\n",
            "Successfully built llama-cpp-python\n",
            "Installing collected packages: typing-extensions, numpy, MarkupSafe, diskcache, jinja2, llama-cpp-python\n",
            "  Attempting uninstall: typing-extensions\n",
            "    Found existing installation: typing_extensions 4.12.1\n",
            "    Uninstalling typing_extensions-4.12.1:\n",
            "      Successfully uninstalled typing_extensions-4.12.1\n",
            "  Attempting uninstall: numpy\n",
            "    Found existing installation: numpy 1.25.2\n",
            "    Uninstalling numpy-1.25.2:\n",
            "      Successfully uninstalled numpy-1.25.2\n",
            "  Attempting uninstall: MarkupSafe\n",
            "    Found existing installation: MarkupSafe 2.1.5\n",
            "    Uninstalling MarkupSafe-2.1.5:\n",
            "      Successfully uninstalled MarkupSafe-2.1.5\n",
            "  Attempting uninstall: diskcache\n",
            "    Found existing installation: diskcache 5.6.3\n",
            "    Uninstalling diskcache-5.6.3:\n",
            "      Successfully uninstalled diskcache-5.6.3\n",
            "  Attempting uninstall: jinja2\n",
            "    Found existing installation: Jinja2 3.1.4\n",
            "    Uninstalling Jinja2-3.1.4:\n",
            "      Successfully uninstalled Jinja2-3.1.4\n",
            "  Attempting uninstall: llama-cpp-python\n",
            "    Found existing installation: llama_cpp_python 0.2.73\n",
            "    Uninstalling llama_cpp_python-0.2.73:\n",
            "      Successfully uninstalled llama_cpp_python-0.2.73\n",
            "Successfully installed MarkupSafe-2.1.5 diskcache-5.6.3 jinja2-3.1.4 llama-cpp-python-0.2.78 numpy-1.26.4 typing-extensions-4.12.2\n"
          ]
        }
      ],
      "source": [
        "!CMAKE_ARGS=\"-DLLAMA_CUBLAS=on\" FORCE_CMAKE=1 pip install --upgrade --force-reinstall llama-cpp-python --no-cache-dir"
      ]
    },
    {
      "cell_type": "markdown",
      "metadata": {
        "id": "oFM34ox0u8rU"
      },
      "source": [
        "# **Run**\n",
        "\n"
      ]
    },
    {
      "cell_type": "code",
      "execution_count": 6,
      "metadata": {
        "colab": {
          "base_uri": "https://localhost:8080/"
        },
        "id": "xeMtHU1mpdBu",
        "outputId": "6145823b-2909-4caa-ad47-02c711422b61"
      },
      "outputs": [
        {
          "output_type": "stream",
          "name": "stdout",
          "text": [
            "\u001b[2K     \u001b[90m━━━━━━━━━━━━━━━━━━━━━━━━━━━━━━━━━━━━━━━━\u001b[0m \u001b[32m418.4/418.4 kB\u001b[0m \u001b[31m12.5 MB/s\u001b[0m eta \u001b[36m0:00:00\u001b[0m\n",
            "\u001b[2K     \u001b[90m━━━━━━━━━━━━━━━━━━━━━━━━━━━━━━━━━━━━━━━━\u001b[0m \u001b[32m23.7/23.7 MB\u001b[0m \u001b[31m64.7 MB/s\u001b[0m eta \u001b[36m0:00:00\u001b[0m\n",
            "\u001b[2K     \u001b[90m━━━━━━━━━━━━━━━━━━━━━━━━━━━━━━━━━━━━━━━━\u001b[0m \u001b[32m542.1/542.1 kB\u001b[0m \u001b[31m29.8 MB/s\u001b[0m eta \u001b[36m0:00:00\u001b[0m\n",
            "\u001b[2K     \u001b[90m━━━━━━━━━━━━━━━━━━━━━━━━━━━━━━━━━━━━━━━━\u001b[0m \u001b[32m309.4/309.4 kB\u001b[0m \u001b[31m29.6 MB/s\u001b[0m eta \u001b[36m0:00:00\u001b[0m\n",
            "\u001b[2K     \u001b[90m━━━━━━━━━━━━━━━━━━━━━━━━━━━━━━━━━━━━━━━━\u001b[0m \u001b[32m13.2/13.2 MB\u001b[0m \u001b[31m61.6 MB/s\u001b[0m eta \u001b[36m0:00:00\u001b[0m\n",
            "\u001b[2K     \u001b[90m━━━━━━━━━━━━━━━━━━━━━━━━━━━━━━━━━━━━━━━━\u001b[0m \u001b[32m251.6/251.6 kB\u001b[0m \u001b[31m27.3 MB/s\u001b[0m eta \u001b[36m0:00:00\u001b[0m\n",
            "\u001b[2K     \u001b[90m━━━━━━━━━━━━━━━━━━━━━━━━━━━━━━━━━━━━━━━━\u001b[0m \u001b[32m116.3/116.3 kB\u001b[0m \u001b[31m18.1 MB/s\u001b[0m eta \u001b[36m0:00:00\u001b[0m\n",
            "\u001b[2K     \u001b[90m━━━━━━━━━━━━━━━━━━━━━━━━━━━━━━━━━━━━━━━━\u001b[0m \u001b[32m64.9/64.9 kB\u001b[0m \u001b[31m9.3 MB/s\u001b[0m eta \u001b[36m0:00:00\u001b[0m\n",
            "\u001b[2K     \u001b[90m━━━━━━━━━━━━━━━━━━━━━━━━━━━━━━━━━━━━━━━━\u001b[0m \u001b[32m194.1/194.1 kB\u001b[0m \u001b[31m27.4 MB/s\u001b[0m eta \u001b[36m0:00:00\u001b[0m\n",
            "\u001b[2K     \u001b[90m━━━━━━━━━━━━━━━━━━━━━━━━━━━━━━━━━━━━━━━━\u001b[0m \u001b[32m134.8/134.8 kB\u001b[0m \u001b[31m19.0 MB/s\u001b[0m eta \u001b[36m0:00:00\u001b[0m\n",
            "\u001b[?25h\u001b[31mERROR: pip's dependency resolver does not currently take into account all the packages that are installed. This behaviour is the source of the following dependency conflicts.\n",
            "google-colab 1.0.0 requires requests==2.31.0, but you have requests 2.32.3 which is incompatible.\u001b[0m\u001b[31m\n",
            "\u001b[0m"
          ]
        }
      ],
      "source": [
        "!pip install chainlit pyngrok langchain optimum auto-gptq --extra-index-url https://huggingface.github.io/autogptq-index/whl/cu118/ -q"
      ]
    },
    {
      "cell_type": "code",
      "execution_count": 8,
      "metadata": {
        "id": "xo3bUTAHD5wp"
      },
      "outputs": [],
      "source": [
        "from pyngrok import ngrok"
      ]
    },
    {
      "cell_type": "markdown",
      "metadata": {
        "id": "Y2USZ2l2Kdvg"
      },
      "source": [
        "### **When everytime you run chainlit, please run follow two commands beforehand to get URL!!**\n",
        "ngrok URL: https://dashboard.ngrok.com/get-started/your-authtoken\n",
        "Sign up and get Authtoken"
      ]
    },
    {
      "cell_type": "code",
      "execution_count": 10,
      "metadata": {
        "colab": {
          "base_uri": "https://localhost:8080/"
        },
        "id": "CvnJaZo9Kdvg",
        "outputId": "d42f6904-0b7b-4484-9534-28694355712b"
      },
      "outputs": [
        {
          "output_type": "stream",
          "name": "stdout",
          "text": [
            "Authtoken saved to configuration file: /root/.config/ngrok/ngrok.yml\n"
          ]
        }
      ],
      "source": [
        "!ngrok config add-authtoken 2hGgQkJgFsLfUPYBtvIaTc8A2Ok_4oREM4W1YiSu7At3AEdB"
      ]
    },
    {
      "cell_type": "code",
      "execution_count": 11,
      "metadata": {
        "colab": {
          "base_uri": "https://localhost:8080/"
        },
        "id": "rZ-apHBex3UF",
        "outputId": "63c39444-597c-4d38-91d3-3ed33c901974"
      },
      "outputs": [
        {
          "output_type": "stream",
          "name": "stdout",
          "text": [
            "https://037f-34-16-148-239.ngrok-free.app\n"
          ]
        }
      ],
      "source": [
        "print(ngrok.connect(8000).public_url)"
      ]
    },
    {
      "cell_type": "markdown",
      "metadata": {
        "id": "XOIj-HpWEfyS"
      },
      "source": [
        "### Please jump to above url if you see following sentences in the console\n",
        "\n",
        "**Your app is available at http://localhost:8000**"
      ]
    },
    {
      "cell_type": "code",
      "execution_count": 12,
      "metadata": {
        "colab": {
          "base_uri": "https://localhost:8080/"
        },
        "id": "7BIt5k9TCnZy",
        "outputId": "f8976d04-e30f-4436-ec87-de1d39e66214"
      },
      "outputs": [
        {
          "output_type": "stream",
          "name": "stdout",
          "text": [
            "2024-06-12 07:14:51 - Created default config file at /content/NYCU-AI-Final-Project-STEAM/.chainlit/config.toml\n",
            "2024-06-12 07:14:51 - Created default translation directory at /content/NYCU-AI-Final-Project-STEAM/.chainlit/translations\n",
            "2024-06-12 07:14:51 - Created default translation file at /content/NYCU-AI-Final-Project-STEAM/.chainlit/translations/en-US.json\n",
            "2024-06-12 07:14:59 - Load pretrained SentenceTransformer: all-MiniLM-L6-v2\n",
            "modules.json: 100% 349/349 [00:00<00:00, 1.95MB/s]\n",
            "config_sentence_transformers.json: 100% 116/116 [00:00<00:00, 611kB/s]\n",
            "README.md: 100% 10.7k/10.7k [00:00<00:00, 43.2MB/s]\n",
            "sentence_bert_config.json: 100% 53.0/53.0 [00:00<00:00, 325kB/s]\n",
            "/usr/local/lib/python3.10/dist-packages/huggingface_hub/file_download.py:1132: FutureWarning: `resume_download` is deprecated and will be removed in version 1.0.0. Downloads always resume when possible. If you want to force a new download, use `force_download=True`.\n",
            "  warnings.warn(\n",
            "config.json: 100% 612/612 [00:00<00:00, 3.81MB/s]\n",
            "model.safetensors: 100% 90.9M/90.9M [00:00<00:00, 189MB/s]\n",
            "tokenizer_config.json: 100% 350/350 [00:00<00:00, 2.58MB/s]\n",
            "vocab.txt: 100% 232k/232k [00:00<00:00, 10.5MB/s]\n",
            "tokenizer.json: 100% 466k/466k [00:00<00:00, 24.3MB/s]\n",
            "special_tokens_map.json: 100% 112/112 [00:00<00:00, 732kB/s]\n",
            "1_Pooling/config.json: 100% 190/190 [00:00<00:00, 969kB/s]\n",
            "/usr/local/lib/python3.10/dist-packages/langchain_core/utils/utils.py:161: UserWarning: WARNING! temparature is not default parameter.\n",
            "                temparature was transferred to model_kwargs.\n",
            "                Please confirm that temparature is what you intended.\n",
            "  warnings.warn(\n",
            "llama_model_loader: loaded meta data with 19 key-value pairs and 291 tensors from Model/llama.cpp/llama-2-7b-chat.Q4_K_M.gguf (version GGUF V2)\n",
            "llama_model_loader: Dumping metadata keys/values. Note: KV overrides do not apply in this output.\n",
            "llama_model_loader: - kv   0:                       general.architecture str              = llama\n",
            "llama_model_loader: - kv   1:                               general.name str              = LLaMA v2\n",
            "llama_model_loader: - kv   2:                       llama.context_length u32              = 4096\n",
            "llama_model_loader: - kv   3:                     llama.embedding_length u32              = 4096\n",
            "llama_model_loader: - kv   4:                          llama.block_count u32              = 32\n",
            "llama_model_loader: - kv   5:                  llama.feed_forward_length u32              = 11008\n",
            "llama_model_loader: - kv   6:                 llama.rope.dimension_count u32              = 128\n",
            "llama_model_loader: - kv   7:                 llama.attention.head_count u32              = 32\n",
            "llama_model_loader: - kv   8:              llama.attention.head_count_kv u32              = 32\n",
            "llama_model_loader: - kv   9:     llama.attention.layer_norm_rms_epsilon f32              = 0.000001\n",
            "llama_model_loader: - kv  10:                          general.file_type u32              = 15\n",
            "llama_model_loader: - kv  11:                       tokenizer.ggml.model str              = llama\n",
            "llama_model_loader: - kv  12:                      tokenizer.ggml.tokens arr[str,32000]   = [\"<unk>\", \"<s>\", \"</s>\", \"<0x00>\", \"<...\n",
            "llama_model_loader: - kv  13:                      tokenizer.ggml.scores arr[f32,32000]   = [0.000000, 0.000000, 0.000000, 0.0000...\n",
            "llama_model_loader: - kv  14:                  tokenizer.ggml.token_type arr[i32,32000]   = [2, 3, 3, 6, 6, 6, 6, 6, 6, 6, 6, 6, ...\n",
            "llama_model_loader: - kv  15:                tokenizer.ggml.bos_token_id u32              = 1\n",
            "llama_model_loader: - kv  16:                tokenizer.ggml.eos_token_id u32              = 2\n",
            "llama_model_loader: - kv  17:            tokenizer.ggml.unknown_token_id u32              = 0\n",
            "llama_model_loader: - kv  18:               general.quantization_version u32              = 2\n",
            "llama_model_loader: - type  f32:   65 tensors\n",
            "llama_model_loader: - type q4_K:  193 tensors\n",
            "llama_model_loader: - type q6_K:   33 tensors\n",
            "llm_load_vocab: special tokens cache size = 259\n",
            "llm_load_vocab: token to piece cache size = 0.1684 MB\n",
            "llm_load_print_meta: format           = GGUF V2\n",
            "llm_load_print_meta: arch             = llama\n",
            "llm_load_print_meta: vocab type       = SPM\n",
            "llm_load_print_meta: n_vocab          = 32000\n",
            "llm_load_print_meta: n_merges         = 0\n",
            "llm_load_print_meta: n_ctx_train      = 4096\n",
            "llm_load_print_meta: n_embd           = 4096\n",
            "llm_load_print_meta: n_head           = 32\n",
            "llm_load_print_meta: n_head_kv        = 32\n",
            "llm_load_print_meta: n_layer          = 32\n",
            "llm_load_print_meta: n_rot            = 128\n",
            "llm_load_print_meta: n_embd_head_k    = 128\n",
            "llm_load_print_meta: n_embd_head_v    = 128\n",
            "llm_load_print_meta: n_gqa            = 1\n",
            "llm_load_print_meta: n_embd_k_gqa     = 4096\n",
            "llm_load_print_meta: n_embd_v_gqa     = 4096\n",
            "llm_load_print_meta: f_norm_eps       = 0.0e+00\n",
            "llm_load_print_meta: f_norm_rms_eps   = 1.0e-06\n",
            "llm_load_print_meta: f_clamp_kqv      = 0.0e+00\n",
            "llm_load_print_meta: f_max_alibi_bias = 0.0e+00\n",
            "llm_load_print_meta: f_logit_scale    = 0.0e+00\n",
            "llm_load_print_meta: n_ff             = 11008\n",
            "llm_load_print_meta: n_expert         = 0\n",
            "llm_load_print_meta: n_expert_used    = 0\n",
            "llm_load_print_meta: causal attn      = 1\n",
            "llm_load_print_meta: pooling type     = 0\n",
            "llm_load_print_meta: rope type        = 0\n",
            "llm_load_print_meta: rope scaling     = linear\n",
            "llm_load_print_meta: freq_base_train  = 10000.0\n",
            "llm_load_print_meta: freq_scale_train = 1\n",
            "llm_load_print_meta: n_ctx_orig_yarn  = 4096\n",
            "llm_load_print_meta: rope_finetuned   = unknown\n",
            "llm_load_print_meta: ssm_d_conv       = 0\n",
            "llm_load_print_meta: ssm_d_inner      = 0\n",
            "llm_load_print_meta: ssm_d_state      = 0\n",
            "llm_load_print_meta: ssm_dt_rank      = 0\n",
            "llm_load_print_meta: model type       = 7B\n",
            "llm_load_print_meta: model ftype      = Q4_K - Medium\n",
            "llm_load_print_meta: model params     = 6.74 B\n",
            "llm_load_print_meta: model size       = 3.80 GiB (4.84 BPW) \n",
            "llm_load_print_meta: general.name     = LLaMA v2\n",
            "llm_load_print_meta: BOS token        = 1 '<s>'\n",
            "llm_load_print_meta: EOS token        = 2 '</s>'\n",
            "llm_load_print_meta: UNK token        = 0 '<unk>'\n",
            "llm_load_print_meta: LF token         = 13 '<0x0A>'\n",
            "ggml_cuda_init: GGML_CUDA_FORCE_MMQ:   no\n",
            "ggml_cuda_init: CUDA_USE_TENSOR_CORES: yes\n",
            "ggml_cuda_init: found 1 CUDA devices:\n",
            "  Device 0: Tesla T4, compute capability 7.5, VMM: yes\n",
            "llm_load_tensors: ggml ctx size =    0.30 MiB\n",
            "llm_load_tensors: offloading 32 repeating layers to GPU\n",
            "llm_load_tensors: offloading non-repeating layers to GPU\n",
            "llm_load_tensors: offloaded 33/33 layers to GPU\n",
            "llm_load_tensors:        CPU buffer size =    70.31 MiB\n",
            "llm_load_tensors:      CUDA0 buffer size =  3820.94 MiB\n",
            "..................................................................................................\n",
            "llama_new_context_with_model: n_ctx      = 4096\n",
            "llama_new_context_with_model: n_batch    = 512\n",
            "llama_new_context_with_model: n_ubatch   = 512\n",
            "llama_new_context_with_model: flash_attn = 0\n",
            "llama_new_context_with_model: freq_base  = 10000.0\n",
            "llama_new_context_with_model: freq_scale = 1\n",
            "llama_kv_cache_init:      CUDA0 KV buffer size =  2048.00 MiB\n",
            "llama_new_context_with_model: KV self size  = 2048.00 MiB, K (f16): 1024.00 MiB, V (f16): 1024.00 MiB\n",
            "llama_new_context_with_model:  CUDA_Host  output buffer size =     0.12 MiB\n",
            "llama_new_context_with_model:      CUDA0 compute buffer size =   296.00 MiB\n",
            "llama_new_context_with_model:  CUDA_Host compute buffer size =    16.01 MiB\n",
            "llama_new_context_with_model: graph nodes  = 1030\n",
            "llama_new_context_with_model: graph splits = 2\n",
            "AVX = 1 | AVX_VNNI = 0 | AVX2 = 1 | AVX512 = 1 | AVX512_VBMI = 0 | AVX512_VNNI = 0 | AVX512_BF16 = 0 | FMA = 1 | NEON = 0 | SVE = 0 | ARM_FMA = 0 | F16C = 1 | FP16_VA = 0 | WASM_SIMD = 0 | BLAS = 1 | SSE3 = 1 | SSSE3 = 1 | VSX = 0 | MATMUL_INT8 = 0 | LLAMAFILE = 1 | \n",
            "Model metadata: {'tokenizer.ggml.unknown_token_id': '0', 'tokenizer.ggml.eos_token_id': '2', 'general.architecture': 'llama', 'llama.context_length': '4096', 'general.name': 'LLaMA v2', 'llama.embedding_length': '4096', 'llama.feed_forward_length': '11008', 'llama.attention.layer_norm_rms_epsilon': '0.000001', 'llama.rope.dimension_count': '128', 'llama.attention.head_count': '32', 'tokenizer.ggml.bos_token_id': '1', 'llama.block_count': '32', 'llama.attention.head_count_kv': '32', 'general.quantization_version': '2', 'tokenizer.ggml.model': 'llama', 'general.file_type': '15'}\n",
            "Using fallback chat format: llama-2\n",
            "2024-06-12 07:15:22 - Anonymized telemetry enabled. See                     https://docs.trychroma.com/telemetry for more information.\n",
            "2024-06-12 07:15:23 - Created default chainlit markdown file at /content/NYCU-AI-Final-Project-STEAM/chainlit.md\n",
            "2024-06-12 07:15:23 - Your app is available at http://localhost:8000\n",
            "2024-06-12 07:15:35 - Translation file for ja not found. Using default translation en-US.\n",
            "2024-06-12 07:15:36 - Translated markdown file for ja not found. Defaulting to chainlit.md.\n",
            "game_id: 1293830\n",
            "2024-06-12 07:15:43 - initializing identifier\n",
            "Batches: 100% 1/1 [00:00<00:00,  5.27it/s]\n",
            "cursor:  AoJ4l4eLu4wDdvXIygQ=\n",
            "2024-06-12 07:15:59 - 8 changes detected\n",
            "Batches:  12% 4/32 [00:09<00:58,  2.10s/it]2024-06-12 07:16:09 - Translation file for ja not found. Using default translation en-US.\n",
            "Batches: 100% 32/32 [00:21<00:00,  1.48it/s]\n",
            "2024-06-12 07:16:21 - 4 changes detected\n",
            "2024-06-12 07:16:21 - 6 changes detected\n",
            "2024-06-12 07:16:21 - 7 changes detected\n",
            "2024-06-12 07:16:21 - 1 change detected\n",
            "2024-06-12 07:16:21 - 1 change detected\n",
            "2024-06-12 07:16:22 - 1 change detected\n",
            "2024-06-12 07:16:22 - 1 change detected\n",
            "2024-06-12 07:16:22 - 1 change detected\n",
            "Batches: 100% 1/1 [00:00<00:00, 95.36it/s]\n",
            "Batches: 100% 1/1 [00:00<00:00, 97.39it/s]\n",
            "Batches:   0% 0/1 [00:00<?, ?it/s]2024-06-12 07:16:22 - 3 changes detected\n",
            "Batches: 100% 1/1 [00:00<00:00, 92.20it/s]\n",
            "Batches: 100% 1/1 [00:00<00:00, 77.16it/s]\n",
            "Batches: 100% 1/1 [00:00<00:00, 104.33it/s]\n",
            "Batches: 100% 1/1 [00:00<00:00, 106.24it/s]\n",
            "Batches: 100% 1/1 [00:00<00:00, 103.17it/s]\n",
            "Batches: 100% 1/1 [00:00<00:00, 113.04it/s]\n",
            "Batches: 100% 1/1 [00:00<00:00, 103.79it/s]\n",
            "Batches: 100% 1/1 [00:00<00:00, 106.37it/s]\n",
            "    Introduction: Forza Horizon 4 is an open-world racing game developed by Playground Games and published by Microsoft. It was released in 2018 for Xbox One and Windows 10, and it's the fourth main installment in the Forza Horizon series. The game offers a fun multiplayer and single-player experience with lots to do, but it also has some issues that might disappoint players.\n",
            "                    Graphics: The game's graphics are stunning, allowing you to drive fast and feel like you're actually on the track. The car models are detailed and look great, making for a visually appealing game. However, there are some minor graphical issues here and there (6/10).\n",
            "                    Engine Sounds: Unfortunately, the engine sounds in Forza Horizon 4 are not impressive, with most of them sounding similar and unrealistic (2/10).\n",
            "                    Gameplay: The gameplay is where Forza Horizon 4 truly shines. It offers a great multiplayer and single-player experience, with plenty of things to do such as racing, exploring the open world, and customizing your cars. The game's difficulty is well-balanced, and you can adjust it to suit your skill level (9/10).\n",
            "                    Story: Unfortunately, the story in Forza Horizon 4 is quite lacking, with little to no plot to speak of. This might disappoint some players who enjoy a good narrative in their games (3/10).\n",
            "                    OST Music: The game's soundtrack is also unimpressive, with most of the tracks not being memorable or enjoyable (2/10).\n",
            "                    Recommendation: Despite the issues mentioned above, Forza Horizon 4 is still a great game that I highly recommend playing with friends. It offers a fun and immersive experience that's worth checking out (8/10).\n",
            "                    Bugs and Glitches: Unfortunately, the game does have some bugs and glitches that might ruin your experience. These include crashes, loading issues, and minor graphical problems. However, most of these issues are minor and don't detract too much from the overall fun of the game (6/10).\n",
            "                    Price: At launch, Forza Horizon 4 was a bit overpriced\n",
            "llama_print_timings:        load time =     674.91 ms\n",
            "llama_print_timings:      sample time =     307.14 ms /   512 runs   (    0.60 ms per token,  1667.01 tokens per second)\n",
            "llama_print_timings: prompt eval time =    1277.28 ms /  1057 tokens (    1.21 ms per token,   827.54 tokens per second)\n",
            "llama_print_timings:        eval time =   13574.58 ms /   511 runs   (   26.56 ms per token,    37.64 tokens per second)\n",
            "llama_print_timings:       total time =   15809.62 ms /  1568 tokens\n",
            "2024-06-12 07:16:38 - 1 change detected\n",
            "2024-06-12 07:16:40 - Translation file for ja not found. Using default translation en-US.\n",
            "game_id: None\n",
            "Batches: 100% 1/1 [00:00<00:00, 57.24it/s]\n",
            "Batches: 100% 1/1 [00:00<00:00, 71.19it/s]\n",
            "Batches: 100% 1/1 [00:00<00:00, 72.07it/s]\n",
            "Batches: 100% 1/1 [00:00<00:00, 78.03it/s]\n",
            "Batches: 100% 1/1 [00:00<00:00, 67.90it/s]\n",
            "Batches: 100% 1/1 [00:00<00:00, 79.01it/s]\n",
            "Batches: 100% 1/1 [00:00<00:00, 84.31it/s]\n",
            "Batches: 100% 1/1 [00:00<00:00, 78.33it/s]\n",
            "Batches: 100% 1/1 [00:00<00:00, 78.01it/s]\n",
            "Batches: 100% 1/1 [00:00<00:00, 75.55it/s]\n",
            "game_id: 1245620\n",
            "Batches: 100% 1/1 [00:00<00:00, 35.01it/s]\n",
            "cursor:  AoJw/cT06I8Debjz+gQ=\n",
            "Batches:   0% 0/32 [00:00<?, ?it/s]2024-06-12 07:17:20 - 3 changes detected\n",
            "Batches: 100% 32/32 [00:19<00:00,  1.63it/s]\n",
            "2024-06-12 07:17:40 - 2 changes detected\n",
            "2024-06-12 07:17:40 - 7 changes detected\n",
            "2024-06-12 07:17:40 - 1 change detected\n",
            "2024-06-12 07:17:41 - 2 changes detected\n",
            "2024-06-12 07:17:41 - 1 change detected\n",
            "2024-06-12 07:17:41 - 1 change detected\n",
            "2024-06-12 07:17:41 - 1 change detected\n",
            "Batches: 100% 1/1 [00:00<00:00, 92.61it/s]\n",
            "Batches:   0% 0/1 [00:00<?, ?it/s]2024-06-12 07:17:41 - 3 changes detected\n",
            "Batches: 100% 1/1 [00:00<00:00, 96.08it/s]\n",
            "Batches: 100% 1/1 [00:00<00:00, 78.57it/s]\n",
            "Batches: 100% 1/1 [00:00<00:00, 101.33it/s]\n",
            "Batches: 100% 1/1 [00:00<00:00, 86.69it/s]\n",
            "Batches: 100% 1/1 [00:00<00:00, 103.88it/s]\n",
            "Batches: 100% 1/1 [00:00<00:00, 102.72it/s]\n",
            "Batches: 100% 1/1 [00:00<00:00, 110.02it/s]\n",
            "Batches: 100% 1/1 [00:00<00:00, 105.48it/s]\n",
            "Batches: 100% 1/1 [00:00<00:00, 101.55it/s]\n",
            "Llama.generate: prefix-match hit\n",
            "   Graphics: The visuals of Elden Ring are stunning and beautiful, with great attention to detail in character designs, environments, and monster graphics. However, some players have reported minor bugs and glitches that can detract from the overall experience. (8/10)\n",
            "                    Gameplay: The game offers a unique blend of exploration, combat, and character customization, making it enjoyable for both casual and hardcore gamers. However, some players have found the controls to be difficult to master, particularly for those who are new to Soulslike games. (9/10)\n",
            "                    Story: The storyline of Elden Ring is engaging but lacks a clear direction or focus, with some players feeling frustrated by the lack of a traditional narrative structure. However, the game's atmosphere and lore are praised for their depth and complexity. (7/10)\n",
            "                    OST Music: The soundtrack of Elden Ring is hauntingly beautiful, with an excellent selection of tracks that complement the game's dark and atmospheric setting. However, some players have reported minor issues with the music's volume balance. (8/10)\n",
            "                    Recommendation: Overall, Elden Ring is a great game that offers a unique and challenging experience for both single-player and multiplayer playthroughs. While it may not be suitable for everyone, fans of Soulslike games will find much to love in this latest addition to the genre. (9/10)\n",
            "                    Bugs and Glitches: Some players have reported minor bugs and glitches while playing Elden Ring, including issues with frame rate drops, NPC behavior, and item durability. While these issues are not game-breaking, they can detract from the overall experience. (6/10)\n",
            "                    Price: At around $60, Elden Ring is priced competitively for a AAA title with this level of complexity and depth. However, some players may feel that it is slightly overpriced, particularly if they are not fans of the Soulslike genre. (7/10)\n",
            "                    Overall: Elden Ring is an excellent addition to the Soulslike genre, offering a unique and challenging experience with beautiful visuals, engaging combat, and a richly detailed world\n",
            "llama_print_timings:        load time =     674.91 ms\n",
            "llama_print_timings:      sample time =     335.67 ms /   512 runs   (    0.66 ms per token,  1525.29 tokens per second)\n",
            "llama_print_timings: prompt eval time =    1410.73 ms /  1165 tokens (    1.21 ms per token,   825.82 tokens per second)\n",
            "llama_print_timings:        eval time =   14007.43 ms /   511 runs   (   27.41 ms per token,    36.48 tokens per second)\n",
            "llama_print_timings:       total time =   16343.56 ms /  1676 tokens\n",
            "2024-06-12 07:17:58 - 1 change detected\n",
            "2024-06-12 07:18:16 - Translation file for ja not found. Using default translation en-US.\n",
            "The user disconnected!\n"
          ]
        }
      ],
      "source": [
        "!chainlit run ui.py -w"
      ]
    }
  ],
  "metadata": {
    "accelerator": "GPU",
    "colab": {
      "gpuType": "T4",
      "provenance": []
    },
    "kernelspec": {
      "display_name": "Python 3",
      "name": "python3"
    },
    "language_info": {
      "name": "python"
    }
  },
  "nbformat": 4,
  "nbformat_minor": 0
}